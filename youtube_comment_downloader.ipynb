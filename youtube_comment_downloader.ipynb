{
  "nbformat": 4,
  "nbformat_minor": 0,
  "metadata": {
    "colab": {
      "name": "youtube_comment_downloader.ipynb",
      "provenance": [],
      "collapsed_sections": []
    },
    "kernelspec": {
      "name": "python3",
      "display_name": "Python 3"
    },
    "language_info": {
      "name": "python"
    }
  },
  "cells": [
    {
      "cell_type": "markdown",
      "source": [
        "https://console.cloud.google.com/apis/credentials?project=round-essence-356511"
      ],
      "metadata": {
        "id": "GD7RZvhbgY3c"
      }
    },
    {
      "cell_type": "code",
      "source": [
        "pip install google-api-python-client"
      ],
      "metadata": {
        "id": "Lwgg2YmWQs5N"
      },
      "execution_count": null,
      "outputs": []
    },
    {
      "cell_type": "code",
      "source": [
        "pip install google-auth google-auth-oauthlib google-auth-httplib2"
      ],
      "metadata": {
        "id": "EutLgWl_QyWZ"
      },
      "execution_count": null,
      "outputs": []
    },
    {
      "cell_type": "code",
      "source": [
        "import csv\n",
        "import os\n",
        "import google.oauth2.credentials\n",
        "from googleapiclient.discovery import build\n",
        "from googleapiclient.errors import HttpError\n",
        "from google_auth_oauthlib.flow import InstalledAppFlow\n",
        "\n",
        "CLIENT_SECRETS_FILE = \"client_secret.json\"\n",
        "SCOPES = ['https://www.googleapis.com/auth/youtube.force-ssl']\n",
        "API_SERVICE_NAME = 'youtube'\n",
        "API_VERSION = 'v3'\n",
        "\n",
        "\n",
        "def get_authenticated_service():\n",
        "    credentials = None\n",
        "    if os.path.exists('token.pickle'):\n",
        "        with open('token.pickle', 'rb') as token:\n",
        "            credentials = pickle.load(token)\n",
        "\n",
        "    if not credentials or not credentials.valid:\n",
        "        # Check if the credentials have expired\n",
        "        if credentials and credentials.expired and credentials.refresh_token:\n",
        "            credentials.refresh(Request())\n",
        "        else:\n",
        "            flow = InstalledAppFlow.from_client_secrets_file(\n",
        "                CLIENT_SECRETS_FILE, SCOPES)\n",
        "            credentials = flow.run_console()\n",
        "\n",
        "        # Save the credentials for the next run\n",
        "        with open('token.pickle', 'wb') as token:\n",
        "            pickle.dump(credentials, token)\n",
        "\n",
        "    return build(API_SERVICE_NAME, API_VERSION, credentials = credentials)\n",
        "\n",
        "def get_video_comments(service, **kwargs):\n",
        "    comments = []\n",
        "    results = service.commentThreads().list(**kwargs).execute()\n",
        "    while results:\n",
        "        for item in results['items']:\n",
        "            comment = item['snippet']['topLevelComment']['snippet']['textDisplay']\n",
        "            comments.append(comment)\n",
        "        if 'nextPageToken' in results:\n",
        "            kwargs['pageToken'] = results['nextPageToken']\n",
        "            results = service.commentThreads().list(**kwargs).execute()\n",
        "        else:\n",
        "            break\n",
        "    return comments\n",
        "\n",
        "def write_to_csv(comments):\n",
        "    with open('comments.csv', 'w') as comments_file:\n",
        "        comments_writer = csv.writer(comments_file, delimiter=',', quotechar='\"', quoting=csv.QUOTE_MINIMAL)\n",
        "        comments_writer.writerow(['Video ID', 'Title', 'Comment'])\n",
        "        for row in comments:\n",
        "            comments_writer.writerow(list(row))\n",
        "\n",
        "def get_videos(service, **kwargs):\n",
        "    final_results = []\n",
        "    results = service.search().list(**kwargs).execute()\n",
        "    i = 0\n",
        "    max_pages = 3\n",
        "    while results and i < max_pages:\n",
        "        final_results.extend(results['items'])\n",
        "        if 'nextPageToken' in results:\n",
        "            kwargs['pageToken'] = results['nextPageToken']\n",
        "            results = service.search().list(**kwargs).execute()\n",
        "            i += 1\n",
        "        else:\n",
        "            break\n",
        "    return final_results"
      ],
      "metadata": {
        "id": "MgQcXak6TQ_K"
      },
      "execution_count": null,
      "outputs": []
    },
    {
      "cell_type": "code",
      "source": [
        "l = ['4ZSmyeRa34U','hXk3JNp8xiE', #'V1m55U25Ks', \n",
        "     'JIZvqTzZdoo','wIfTstyFakY', 'Vo_GAFeEFGI',\n",
        "     'IZViSoSAJpc', '3QUZ23Bv1Uc',#'DBUNlBnn0w',\n",
        "     'SIL_x8E9134','yDJAnbnE4Wc','hYyZ167ek9c',\n",
        "     #'HIEWUXrW_gU&t=83s',\n",
        "     'HN4MKsNv85E',\n",
        "     'Jv-7P6CylWY',\n",
        "     '7qdYi9O2ZqI',\n",
        "     #'_9qKvJJiEjI&t=604s',\n",
        "     #'TCRQiye5MM',\n",
        "     '3pFLAkDGqbI','3pFLAkDGqbI','I_3U76SaiGc',\n",
        "     'Bhtsj1oLD4I','lZPqAbtBPJA','B53kTmc_56M',\n",
        "     'HUXc5f6LM3Y','5skN7c7cwT4','GnQyOu2Z0-8',\n",
        "     'tHQjykPGPLs','MWNJxDUpclE','wviiY5cCRCs',\n",
        "     'eCjqx29AbUY','iMPJIQqryWY','X_UrRj5d7z4',\n",
        "     'Il_mAGxAYtA','oWlNMnlO1wE','sD0fOzcMKw8',\n",
        "     '5RCkpC_haUA','CMoMdDvU3Q4','PQqL3TsEQ9s',\n",
        "     '7wWbRqWdRE4','C9BhPe3VWeQ',\n",
        "     #'N97yqQ33wxA',\n",
        "     'vfk2K46Tenc','RfJVMAW59jo','aYacjl1kkWU',\n",
        "     'kVSkxEQUEVY','A7DbasQayXE',\n",
        "     #'6crwrRgpDk',\n",
        "     'dG5Rsex75Q8','y3h8azGS1Fw','JwaIfduPZmk',\n",
        "     'gD8N0VETpsw',\n",
        "     #'6fUNhzFFus',\n",
        "     '7DvbRMsXy_s']\n",
        "     #'7wmgwWk4A4']"
      ],
      "metadata": {
        "id": "P5pRCt1Ma8xF"
      },
      "execution_count": null,
      "outputs": []
    },
    {
      "cell_type": "code",
      "source": [
        "if __name__ == '__main__':\n",
        "    os.environ['OAUTHLIB_INSECURE_TRANSPORT'] = '1'\n",
        "    service = get_authenticated_service()\n",
        "    final_result = []\n",
        "    video_link_list = l\n",
        "    for video_id in video_link_list:\n",
        "      print(video_id)\n",
        "      comments = get_video_comments(service, part='snippet', videoId=video_id, textFormat='plainText')    \n",
        "      final_result.extend([(video_id, comment) for comment in comments])\n",
        "    write_to_csv(final_result)"
      ],
      "metadata": {
        "colab": {
          "base_uri": "https://localhost:8080/"
        },
        "id": "Z5o8BWGHa8Hm",
        "outputId": "27e45575-8fe4-48eb-8533-404bc8373f16"
      },
      "execution_count": null,
      "outputs": [
        {
          "output_type": "stream",
          "name": "stdout",
          "text": [
            "4ZSmyeRa34U\n",
            "hXk3JNp8xiE\n",
            "JIZvqTzZdoo\n",
            "wIfTstyFakY\n",
            "Vo_GAFeEFGI\n",
            "IZViSoSAJpc\n",
            "3QUZ23Bv1Uc\n",
            "SIL_x8E9134\n",
            "yDJAnbnE4Wc\n",
            "hYyZ167ek9c\n",
            "HN4MKsNv85E\n",
            "Jv-7P6CylWY\n",
            "7qdYi9O2ZqI\n",
            "3pFLAkDGqbI\n",
            "3pFLAkDGqbI\n",
            "I_3U76SaiGc\n",
            "Bhtsj1oLD4I\n",
            "lZPqAbtBPJA\n",
            "B53kTmc_56M\n",
            "HUXc5f6LM3Y\n",
            "5skN7c7cwT4\n",
            "GnQyOu2Z0-8\n",
            "tHQjykPGPLs\n",
            "MWNJxDUpclE\n",
            "wviiY5cCRCs\n",
            "eCjqx29AbUY\n",
            "iMPJIQqryWY\n",
            "X_UrRj5d7z4\n",
            "Il_mAGxAYtA\n",
            "oWlNMnlO1wE\n",
            "sD0fOzcMKw8\n",
            "5RCkpC_haUA\n",
            "CMoMdDvU3Q4\n",
            "PQqL3TsEQ9s\n",
            "7wWbRqWdRE4\n",
            "C9BhPe3VWeQ\n",
            "vfk2K46Tenc\n",
            "RfJVMAW59jo\n",
            "aYacjl1kkWU\n",
            "kVSkxEQUEVY\n",
            "A7DbasQayXE\n",
            "dG5Rsex75Q8\n",
            "y3h8azGS1Fw\n",
            "JwaIfduPZmk\n",
            "gD8N0VETpsw\n",
            "7DvbRMsXy_s\n"
          ]
        }
      ]
    }
  ]
}